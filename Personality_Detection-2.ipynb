{
  "cells": [
    {
      "cell_type": "markdown",
      "metadata": {
        "id": "qb9qKvDdMbNX"
      },
      "source": [
        "## Setup Environment"
      ]
    },
    {
      "cell_type": "code",
      "execution_count": 2,
      "metadata": {
        "colab": {
          "base_uri": "https://localhost:8080/"
        },
        "id": "jYNPBqRnEdJT",
        "outputId": "68a14307-d08a-473c-a89d-66f4b2f9abd6"
      },
      "outputs": [
        {
          "name": "stdout",
          "output_type": "stream",
          "text": [
            "Requirement already satisfied: transformers in c:\\users\\erikf\\appdata\\local\\packages\\pythonsoftwarefoundation.python.3.10_qbz5n2kfra8p0\\localcache\\local-packages\\python310\\site-packages (4.27.4)"
          ]
        },
        {
          "name": "stderr",
          "output_type": "stream",
          "text": [
            "\n",
            "[notice] A new release of pip is available: 23.0.1 -> 23.1.2\n",
            "[notice] To update, run: C:\\Users\\erikf\\AppData\\Local\\Microsoft\\WindowsApps\\PythonSoftwareFoundation.Python.3.10_qbz5n2kfra8p0\\python.exe -m pip install --upgrade pip\n"
          ]
        },
        {
          "name": "stdout",
          "output_type": "stream",
          "text": [
            "\n",
            "Requirement already satisfied: huggingface-hub<1.0,>=0.11.0 in c:\\users\\erikf\\appdata\\local\\packages\\pythonsoftwarefoundation.python.3.10_qbz5n2kfra8p0\\localcache\\local-packages\\python310\\site-packages (from transformers) (0.11.1)\n",
            "Requirement already satisfied: requests in c:\\users\\erikf\\appdata\\local\\packages\\pythonsoftwarefoundation.python.3.10_qbz5n2kfra8p0\\localcache\\local-packages\\python310\\site-packages (from transformers) (2.28.1)\n",
            "Requirement already satisfied: packaging>=20.0 in c:\\users\\erikf\\appdata\\local\\packages\\pythonsoftwarefoundation.python.3.10_qbz5n2kfra8p0\\localcache\\local-packages\\python310\\site-packages (from transformers) (21.3)\n",
            "Requirement already satisfied: tokenizers!=0.11.3,<0.14,>=0.11.1 in c:\\users\\erikf\\appdata\\local\\packages\\pythonsoftwarefoundation.python.3.10_qbz5n2kfra8p0\\localcache\\local-packages\\python310\\site-packages (from transformers) (0.13.3)\n",
            "Requirement already satisfied: tqdm>=4.27 in c:\\users\\erikf\\appdata\\local\\packages\\pythonsoftwarefoundation.python.3.10_qbz5n2kfra8p0\\localcache\\local-packages\\python310\\site-packages (from transformers) (4.64.1)\n",
            "Requirement already satisfied: pyyaml>=5.1 in c:\\users\\erikf\\appdata\\local\\packages\\pythonsoftwarefoundation.python.3.10_qbz5n2kfra8p0\\localcache\\local-packages\\python310\\site-packages (from transformers) (6.0)\n",
            "Requirement already satisfied: numpy>=1.17 in c:\\users\\erikf\\appdata\\local\\packages\\pythonsoftwarefoundation.python.3.10_qbz5n2kfra8p0\\localcache\\local-packages\\python310\\site-packages (from transformers) (1.23.5)\n",
            "Requirement already satisfied: filelock in c:\\users\\erikf\\appdata\\local\\packages\\pythonsoftwarefoundation.python.3.10_qbz5n2kfra8p0\\localcache\\local-packages\\python310\\site-packages (from transformers) (3.9.0)\n",
            "Requirement already satisfied: regex!=2019.12.17 in c:\\users\\erikf\\appdata\\local\\packages\\pythonsoftwarefoundation.python.3.10_qbz5n2kfra8p0\\localcache\\local-packages\\python310\\site-packages (from transformers) (2023.3.23)\n",
            "Requirement already satisfied: typing-extensions>=3.7.4.3 in c:\\users\\erikf\\appdata\\local\\packages\\pythonsoftwarefoundation.python.3.10_qbz5n2kfra8p0\\localcache\\local-packages\\python310\\site-packages (from huggingface-hub<1.0,>=0.11.0->transformers) (4.4.0)\n",
            "Requirement already satisfied: pyparsing!=3.0.5,>=2.0.2 in c:\\users\\erikf\\appdata\\local\\packages\\pythonsoftwarefoundation.python.3.10_qbz5n2kfra8p0\\localcache\\local-packages\\python310\\site-packages (from packaging>=20.0->transformers) (3.0.9)\n",
            "Requirement already satisfied: colorama in c:\\users\\erikf\\appdata\\local\\packages\\pythonsoftwarefoundation.python.3.10_qbz5n2kfra8p0\\localcache\\local-packages\\python310\\site-packages (from tqdm>=4.27->transformers) (0.4.6)\n",
            "Requirement already satisfied: certifi>=2017.4.17 in c:\\users\\erikf\\appdata\\local\\packages\\pythonsoftwarefoundation.python.3.10_qbz5n2kfra8p0\\localcache\\local-packages\\python310\\site-packages (from requests->transformers) (2022.9.24)\n",
            "Requirement already satisfied: urllib3<1.27,>=1.21.1 in c:\\users\\erikf\\appdata\\local\\packages\\pythonsoftwarefoundation.python.3.10_qbz5n2kfra8p0\\localcache\\local-packages\\python310\\site-packages (from requests->transformers) (1.26.13)\n",
            "Requirement already satisfied: charset-normalizer<3,>=2 in c:\\users\\erikf\\appdata\\local\\packages\\pythonsoftwarefoundation.python.3.10_qbz5n2kfra8p0\\localcache\\local-packages\\python310\\site-packages (from requests->transformers) (2.1.1)\n",
            "Requirement already satisfied: idna<4,>=2.5 in c:\\users\\erikf\\appdata\\local\\packages\\pythonsoftwarefoundation.python.3.10_qbz5n2kfra8p0\\localcache\\local-packages\\python310\\site-packages (from requests->transformers) (3.4)\n"
          ]
        }
      ],
      "source": [
        "# install libraries\n",
        "! pip install transformers\n",
        "#! pip install pycaret"
      ]
    },
    {
      "cell_type": "code",
      "execution_count": 3,
      "metadata": {
        "id": "HIFgZcfWlC8F"
      },
      "outputs": [
        {
          "name": "stderr",
          "output_type": "stream",
          "text": [
            "C:\\Users\\erikf\\AppData\\Local\\Packages\\PythonSoftwareFoundation.Python.3.10_qbz5n2kfra8p0\\LocalCache\\local-packages\\Python310\\site-packages\\tqdm\\auto.py:22: TqdmWarning: IProgress not found. Please update jupyter and ipywidgets. See https://ipywidgets.readthedocs.io/en/stable/user_install.html\n",
            "  from .autonotebook import tqdm as notebook_tqdm\n"
          ]
        }
      ],
      "source": [
        "#import libraries\n",
        "import numpy as np\n",
        "import pandas as pd\n",
        "#import pycaret\n",
        "import transformers\n",
        "from transformers import AutoModel, BertTokenizerFast\n",
        "import matplotlib.pyplot as plt\n",
        "from sklearn.metrics import confusion_matrix \n",
        "from sklearn.model_selection import train_test_split\n",
        "from sklearn.metrics import classification_report\n",
        "import torch\n",
        "import torch.nn as nn\n",
        "\n",
        "device = torch.device(\"cuda\")"
      ]
    },
    {
      "cell_type": "code",
      "execution_count": 7,
      "metadata": {
        "colab": {
          "base_uri": "https://localhost:8080/"
        },
        "id": "Pfi1QUkuEss5",
        "outputId": "de44ecae-22fb-4cb6-e890-9aa5835a6904"
      },
      "outputs": [],
      "source": [
        "#mount to google collab\n",
        "#from google.colab import drive\n",
        "#drive.mount('/content/drive')"
      ]
    },
    {
      "cell_type": "markdown",
      "metadata": {
        "id": "Ar3qNZz0MiGk"
      },
      "source": [
        "## Load Dataset"
      ]
    },
    {
      "cell_type": "code",
      "execution_count": 4,
      "metadata": {
        "id": "5udJPkK9q3GN"
      },
      "outputs": [],
      "source": [
        "#load dataset\n",
        "#dataset = pd.read_csv('myers_personality.csv')\n",
        "dataset = pd.read_csv('D:\\myers_personality.csv')\n"
      ]
    },
    {
      "cell_type": "markdown",
      "metadata": {
        "id": "FtRcx1XarHVV"
      },
      "source": [
        "##Exploratory Analysis"
      ]
    },
    {
      "cell_type": "code",
      "execution_count": 5,
      "metadata": {
        "colab": {
          "base_uri": "https://localhost:8080/"
        },
        "id": "0hmdB0Cvq__t",
        "outputId": "e798fa12-1538-4e2e-b668-ae7eec60f093"
      },
      "outputs": [
        {
          "name": "stdout",
          "output_type": "stream",
          "text": [
            "<class 'pandas.core.frame.DataFrame'>\n",
            "RangeIndex: 8675 entries, 0 to 8674\n",
            "Data columns (total 2 columns):\n",
            " #   Column  Non-Null Count  Dtype \n",
            "---  ------  --------------  ----- \n",
            " 0   type    8675 non-null   object\n",
            " 1   posts   8675 non-null   object\n",
            "dtypes: object(2)\n",
            "memory usage: 135.7+ KB\n"
          ]
        }
      ],
      "source": [
        "#look into dataset\n",
        "dataset.info()"
      ]
    },
    {
      "cell_type": "code",
      "execution_count": 6,
      "metadata": {
        "colab": {
          "base_uri": "https://localhost:8080/"
        },
        "id": "Nv2fdrxDr8um",
        "outputId": "36e30819-470e-40f0-80fc-e8e4340ea796"
      },
      "outputs": [
        {
          "name": "stdout",
          "output_type": "stream",
          "text": [
            "test\n"
          ]
        }
      ],
      "source": [
        "#check if there are any missing data\n",
        "dataset.isnull().any()\n",
        "\n",
        "print('test')"
      ]
    },
    {
      "cell_type": "code",
      "execution_count": 7,
      "metadata": {
        "id": "MLnhOmLAr9DZ"
      },
      "outputs": [],
      "source": [
        "personality_count = dataset.groupby(['type']).count().sort_values('posts', ascending=False)*50"
      ]
    },
    {
      "cell_type": "code",
      "execution_count": 8,
      "metadata": {
        "colab": {
          "base_uri": "https://localhost:8080/",
          "height": 374
        },
        "id": "mkhqgnV8vYt6",
        "outputId": "721f6b8d-2676-4475-e872-57dbcef3b553"
      },
      "outputs": [
        {
          "data": {
            "text/plain": [
              "Text(0.5, 1.0, 'Personality Type Distribution')"
            ]
          },
          "execution_count": 8,
          "metadata": {},
          "output_type": "execute_result"
        },
        {
          "data": {
            "image/png": "[encoded data removed]",
            "text/plain": [
              "<Figure size 1000x500 with 1 Axes>"
            ]
          },
          "metadata": {},
          "output_type": "display_data"
        }
      ],
      "source": [
        "plt.figure(figsize = (10,5))\n",
        "plt.bar(np.array(personality_count.index), height = personality_count['posts'],)\n",
        "plt.xlabel('Personality', size = 10)\n",
        "plt.ylabel('Posts', size = 10)\n",
        "plt.title('Personality Type Distribution')"
      ]
    },
    {
      "cell_type": "markdown",
      "metadata": {
        "id": "nNQ0tNlNBYjJ"
      },
      "source": [
        "##Pre-Processing"
      ]
    },
    {
      "cell_type": "code",
      "execution_count": 9,
      "metadata": {
        "colab": {
          "base_uri": "https://localhost:8080/"
        },
        "id": "MoTgmOkL7IHM",
        "outputId": "b5129e97-40ba-47da-b343-dae39e4e0218"
      },
      "outputs": [
        {
          "name": "stdout",
          "output_type": "stream",
          "text": [
            "                                                  posts  type\n",
            "0           'http://www.youtube.com/watch?v=qsXHcwe3krw  INFJ\n",
            "0     http://41.media.tumblr.com/tumblr_lfouy03PMA1q...  INFJ\n",
            "0     enfp and intj moments  https://www.youtube.com...  INFJ\n",
            "0     What has been the most life-changing experienc...  INFJ\n",
            "0     http://www.youtube.com/watch?v=vXZeYwwRDw8   h...  INFJ\n",
            "...                                                 ...   ...\n",
            "8674  I was going to close my facebook a few months ...  INFP\n",
            "8674  30 Seconds to Mars - All of my collections. It...  INFP\n",
            "8674  I have seen it, and i agree. I did actually th...  INFP\n",
            "8674  Ok so i have just watched Underworld 4 (Awaken...  INFP\n",
            "8674  I would never want to turn off my emotions. so...  INFP\n",
            "\n",
            "[422845 rows x 2 columns]\n"
          ]
        }
      ],
      "source": [
        "# split 'posts' column by '|||' and add each type and split post to a new data frame\n",
        "new_df = dataset[['type', 'posts']].apply(lambda x: pd.Series(x['posts'].split('|||')), axis=1).stack().reset_index(level=1, drop=True).to_frame('posts').join(dataset[['type']], how='left')\n",
        "\n",
        "# display new data frame\n",
        "print(new_df)"
      ]
    },
    {
      "cell_type": "code",
      "execution_count": 10,
      "metadata": {
        "id": "BteU4RJJACHR"
      },
      "outputs": [],
      "source": [
        "# Extract the categorical labels into a separate Series\n",
        "y_cat = new_df['type']\n",
        "\n",
        "# Convert the categorical labels to numeric labels\n",
        "y, label_names = pd.factorize(y_cat)\n",
        "\n",
        "# Store the numeric labels in a new column of the DataFrame\n",
        "new_df['label'] = y"
      ]
    },
    {
      "cell_type": "code",
      "execution_count": 11,
      "metadata": {
        "colab": {
          "base_uri": "https://localhost:8080/",
          "height": 204
        },
        "id": "h-4rDlf9Bcuw",
        "outputId": "e3edbab0-b3df-4c5b-be98-5e596f1004cd"
      },
      "outputs": [
        {
          "data": {
            "text/html": [
              "<div>\n",
              "<style scoped>\n",
              "    .dataframe tbody tr th:only-of-type {\n",
              "        vertical-align: middle;\n",
              "    }\n",
              "\n",
              "    .dataframe tbody tr th {\n",
              "        vertical-align: top;\n",
              "    }\n",
              "\n",
              "    .dataframe thead th {\n",
              "        text-align: right;\n",
              "    }\n",
              "</style>\n",
              "<table border=\"1\" class=\"dataframe\">\n",
              "  <thead>\n",
              "    <tr style=\"text-align: right;\">\n",
              "      <th></th>\n",
              "      <th>posts</th>\n",
              "      <th>type</th>\n",
              "      <th>label</th>\n",
              "    </tr>\n",
              "  </thead>\n",
              "  <tbody>\n",
              "    <tr>\n",
              "      <th>0</th>\n",
              "      <td>'http://www.youtube.com/watch?v=qsXHcwe3krw</td>\n",
              "      <td>INFJ</td>\n",
              "      <td>0</td>\n",
              "    </tr>\n",
              "    <tr>\n",
              "      <th>0</th>\n",
              "      <td>http://41.media.tumblr.com/tumblr_lfouy03PMA1q...</td>\n",
              "      <td>INFJ</td>\n",
              "      <td>0</td>\n",
              "    </tr>\n",
              "    <tr>\n",
              "      <th>0</th>\n",
              "      <td>enfp and intj moments  https://www.youtube.com...</td>\n",
              "      <td>INFJ</td>\n",
              "      <td>0</td>\n",
              "    </tr>\n",
              "    <tr>\n",
              "      <th>0</th>\n",
              "      <td>What has been the most life-changing experienc...</td>\n",
              "      <td>INFJ</td>\n",
              "      <td>0</td>\n",
              "    </tr>\n",
              "    <tr>\n",
              "      <th>0</th>\n",
              "      <td>http://www.youtube.com/watch?v=vXZeYwwRDw8   h...</td>\n",
              "      <td>INFJ</td>\n",
              "      <td>0</td>\n",
              "    </tr>\n",
              "  </tbody>\n",
              "</table>\n",
              "</div>"
            ],
            "text/plain": [
              "                                               posts  type  label\n",
              "0        'http://www.youtube.com/watch?v=qsXHcwe3krw  INFJ      0\n",
              "0  http://41.media.tumblr.com/tumblr_lfouy03PMA1q...  INFJ      0\n",
              "0  enfp and intj moments  https://www.youtube.com...  INFJ      0\n",
              "0  What has been the most life-changing experienc...  INFJ      0\n",
              "0  http://www.youtube.com/watch?v=vXZeYwwRDw8   h...  INFJ      0"
            ]
          },
          "execution_count": 11,
          "metadata": {},
          "output_type": "execute_result"
        }
      ],
      "source": [
        "new_df.head()"
      ]
    },
    {
      "cell_type": "code",
      "execution_count": 12,
      "metadata": {
        "colab": {
          "base_uri": "https://localhost:8080/",
          "height": 419
        },
        "id": "LMTyqpCtMYAl",
        "outputId": "17b8e3d5-f5bd-452d-e6e6-3b94020e8251"
      },
      "outputs": [
        {
          "data": {
            "text/html": [
              "<div>\n",
              "<style scoped>\n",
              "    .dataframe tbody tr th:only-of-type {\n",
              "        vertical-align: middle;\n",
              "    }\n",
              "\n",
              "    .dataframe tbody tr th {\n",
              "        vertical-align: top;\n",
              "    }\n",
              "\n",
              "    .dataframe thead th {\n",
              "        text-align: right;\n",
              "    }\n",
              "</style>\n",
              "<table border=\"1\" class=\"dataframe\">\n",
              "  <thead>\n",
              "    <tr style=\"text-align: right;\">\n",
              "      <th></th>\n",
              "      <th>posts</th>\n",
              "      <th>type</th>\n",
              "      <th>label</th>\n",
              "    </tr>\n",
              "  </thead>\n",
              "  <tbody>\n",
              "    <tr>\n",
              "      <th>0</th>\n",
              "      <td>http://41.media.tumblr.com/tumblr_lfouy03PMA1q...</td>\n",
              "      <td>INFJ</td>\n",
              "      <td>0</td>\n",
              "    </tr>\n",
              "    <tr>\n",
              "      <th>0</th>\n",
              "      <td>What has been the most life-changing experienc...</td>\n",
              "      <td>INFJ</td>\n",
              "      <td>0</td>\n",
              "    </tr>\n",
              "    <tr>\n",
              "      <th>0</th>\n",
              "      <td>May the PerC Experience immerse you.</td>\n",
              "      <td>INFJ</td>\n",
              "      <td>0</td>\n",
              "    </tr>\n",
              "    <tr>\n",
              "      <th>0</th>\n",
              "      <td>The last thing my INFJ friend posted on his fa...</td>\n",
              "      <td>INFJ</td>\n",
              "      <td>0</td>\n",
              "    </tr>\n",
              "    <tr>\n",
              "      <th>0</th>\n",
              "      <td>Hello ENFJ7. Sorry to hear of your distress. I...</td>\n",
              "      <td>INFJ</td>\n",
              "      <td>0</td>\n",
              "    </tr>\n",
              "    <tr>\n",
              "      <th>...</th>\n",
              "      <td>...</td>\n",
              "      <td>...</td>\n",
              "      <td>...</td>\n",
              "    </tr>\n",
              "    <tr>\n",
              "      <th>8674</th>\n",
              "      <td>I was going to close my facebook a few months ...</td>\n",
              "      <td>INFP</td>\n",
              "      <td>6</td>\n",
              "    </tr>\n",
              "    <tr>\n",
              "      <th>8674</th>\n",
              "      <td>30 Seconds to Mars - All of my collections. It...</td>\n",
              "      <td>INFP</td>\n",
              "      <td>6</td>\n",
              "    </tr>\n",
              "    <tr>\n",
              "      <th>8674</th>\n",
              "      <td>I have seen it, and i agree. I did actually th...</td>\n",
              "      <td>INFP</td>\n",
              "      <td>6</td>\n",
              "    </tr>\n",
              "    <tr>\n",
              "      <th>8674</th>\n",
              "      <td>Ok so i have just watched Underworld 4 (Awaken...</td>\n",
              "      <td>INFP</td>\n",
              "      <td>6</td>\n",
              "    </tr>\n",
              "    <tr>\n",
              "      <th>8674</th>\n",
              "      <td>I would never want to turn off my emotions. so...</td>\n",
              "      <td>INFP</td>\n",
              "      <td>6</td>\n",
              "    </tr>\n",
              "  </tbody>\n",
              "</table>\n",
              "<p>406235 rows × 3 columns</p>\n",
              "</div>"
            ],
            "text/plain": [
              "                                                  posts  type  label\n",
              "0     http://41.media.tumblr.com/tumblr_lfouy03PMA1q...  INFJ      0\n",
              "0     What has been the most life-changing experienc...  INFJ      0\n",
              "0                  May the PerC Experience immerse you.  INFJ      0\n",
              "0     The last thing my INFJ friend posted on his fa...  INFJ      0\n",
              "0     Hello ENFJ7. Sorry to hear of your distress. I...  INFJ      0\n",
              "...                                                 ...   ...    ...\n",
              "8674  I was going to close my facebook a few months ...  INFP      6\n",
              "8674  30 Seconds to Mars - All of my collections. It...  INFP      6\n",
              "8674  I have seen it, and i agree. I did actually th...  INFP      6\n",
              "8674  Ok so i have just watched Underworld 4 (Awaken...  INFP      6\n",
              "8674  I would never want to turn off my emotions. so...  INFP      6\n",
              "\n",
              "[406235 rows x 3 columns]"
            ]
          },
          "execution_count": 12,
          "metadata": {},
          "output_type": "execute_result"
        }
      ],
      "source": [
        "new_df[new_df['posts'].str.contains('http:')==False]\n",
        "new_df[new_df['posts'].str.contains('.com')==False]\n",
        "new_df[new_df['posts'].str.contains('www.')==False]"
      ]
    },
    {
      "cell_type": "markdown",
      "metadata": {
        "id": "Zj5h7QbnZC0t"
      },
      "source": [
        "## Train-test-split"
      ]
    },
    {
      "cell_type": "code",
      "execution_count": 13,
      "metadata": {
        "id": "3P9DYEq3y6pR"
      },
      "outputs": [],
      "source": [
        "# Train-Validation-Test set split into 70:15:15 ratio\n",
        "# Train-Temp split\n",
        "train_text, temp_text, train_labels, temp_labels = train_test_split(new_df['posts'], new_df['label'], \n",
        "                                                                    random_state=2018, \n",
        "                                                                    test_size=0.3, \n",
        "                                                                    stratify=new_df['type'])\n",
        "# Validation-Test split\n",
        "val_text, test_text, val_labels, test_labels = train_test_split(temp_text, temp_labels, \n",
        "                                                                random_state=2018, \n",
        "                                                                test_size=0.5, \n",
        "                                                                stratify=temp_labels)"
      ]
    },
    {
      "cell_type": "markdown",
      "metadata": {
        "id": "2ItKm0hDMujq"
      },
      "source": [
        "## BERT Fine-tuning"
      ]
    },
    {
      "cell_type": "markdown",
      "metadata": {
        "id": "HIkcURDhz2R0"
      },
      "source": [
        "### Load pretrained BERT Model"
      ]
    },
    {
      "cell_type": "code",
      "execution_count": 14,
      "metadata": {
        "colab": {
          "base_uri": "https://localhost:8080/"
        },
        "id": "w6skrhdVzW0b",
        "outputId": "b67495df-19cc-41c1-a2e8-1c0e8645b583"
      },
      "outputs": [
        {
          "name": "stderr",
          "output_type": "stream",
          "text": [
            "Some weights of the model checkpoint at bert-base-uncased were not used when initializing BertModel: ['cls.predictions.transform.LayerNorm.bias', 'cls.seq_relationship.weight', 'cls.predictions.transform.dense.weight', 'cls.predictions.transform.dense.bias', 'cls.seq_relationship.bias', 'cls.predictions.decoder.weight', 'cls.predictions.transform.LayerNorm.weight', 'cls.predictions.bias']\n",
            "- This IS expected if you are initializing BertModel from the checkpoint of a model trained on another task or with another architecture (e.g. initializing a BertForSequenceClassification model from a BertForPreTraining model).\n",
            "- This IS NOT expected if you are initializing BertModel from the checkpoint of a model that you expect to be exactly identical (initializing a BertForSequenceClassification model from a BertForSequenceClassification model).\n"
          ]
        }
      ],
      "source": [
        "# Load BERT model and tokenizer via HuggingFace Transformers\n",
        "bert = AutoModel.from_pretrained('bert-base-uncased')\n",
        "tokenizer = BertTokenizerFast.from_pretrained('bert-base-uncased')"
      ]
    },
    {
      "cell_type": "markdown",
      "metadata": {
        "id": "H1G4xtl7dXBD"
      },
      "source": [
        "### Prepare Input Data"
      ]
    },
    {
      "cell_type": "code",
      "execution_count": 15,
      "metadata": {
        "colab": {
          "base_uri": "https://localhost:8080/",
          "height": 466
        },
        "id": "FDZx-O2xzcA_",
        "outputId": "d2987178-a49e-4798-e669-da9a0612a0d1"
      },
      "outputs": [
        {
          "data": {
            "text/plain": [
              "Text(0, 0.5, 'Number of texts')"
            ]
          },
          "execution_count": 15,
          "metadata": {},
          "output_type": "execute_result"
        },
        {
          "data": {
            "image/png": "[encoded data removed]",
            "text/plain": [
              "<Figure size 640x480 with 1 Axes>"
            ]
          },
          "metadata": {},
          "output_type": "display_data"
        }
      ],
      "source": [
        "# Plot histogram of the number of words in train data 'title'\n",
        "seq_len = [len(title.split()) for title in train_text]\n",
        "\n",
        "pd.Series(seq_len).hist(bins = 40,color='firebrick')\n",
        "plt.xlabel('Number of Words')\n",
        "plt.ylabel('Number of texts')"
      ]
    },
    {
      "cell_type": "code",
      "execution_count": 16,
      "metadata": {
        "colab": {
          "base_uri": "https://localhost:8080/"
        },
        "id": "ry0ptLTW-Chy",
        "outputId": "5c75d34b-0f5e-43f2-ebd7-2ac6c8ebf2aa"
      },
      "outputs": [
        {
          "name": "stdout",
          "output_type": "stream",
          "text": [
            "{'input_ids': [[101, 3857, 6180, 3231, 102], [101, 2478, 14324, 1012, 102]], 'token_type_ids': [[0, 0, 0, 0, 0], [0, 0, 0, 0, 0]], 'attention_mask': [[1, 1, 1, 1, 1], [1, 1, 1, 1, 1]]}\n"
          ]
        }
      ],
      "source": [
        "# BERT Tokeizer Functionality\n",
        "sample_data = [\"Build personality test\", \n",
        "               \"Using bert.\"]                                         # sample data\n",
        "tokenized_sample_data = tokenizer.batch_encode_plus(sample_data,\n",
        "                                                    padding=True)     # encode text\n",
        "print(tokenized_sample_data)\n",
        "\n",
        "# Ref: https://huggingface.co/docs/transformers/preprocessing"
      ]
    },
    {
      "cell_type": "code",
      "execution_count": 17,
      "metadata": {
        "colab": {
          "base_uri": "https://localhost:8080/"
        },
        "id": "rfwINnZozkyd",
        "outputId": "100fea13-34d8-4d49-e46e-3c1351761539"
      },
      "outputs": [
        {
          "name": "stderr",
          "output_type": "stream",
          "text": [
            "C:\\Users\\erikf\\AppData\\Local\\Packages\\PythonSoftwareFoundation.Python.3.10_qbz5n2kfra8p0\\LocalCache\\local-packages\\Python310\\site-packages\\transformers\\tokenization_utils_base.py:2346: FutureWarning: The `pad_to_max_length` argument is deprecated and will be removed in a future version, use `padding=True` or `padding='longest'` to pad to the longest sequence in the batch, or use `padding='max_length'` to pad to a max length. In this case, you can give a specific length with `max_length` (e.g. `max_length=45`) or leave max_length to None to pad to the maximal input size of the model (e.g. 512 for Bert).\n",
            "  warnings.warn(\n"
          ]
        }
      ],
      "source": [
        "# Majority of titles above have word length under 40. So, we set max title length as 40\n",
        "MAX_LENGHT = 40\n",
        "# Tokenize and encode sequences in the train set\n",
        "tokens_train = tokenizer.batch_encode_plus(\n",
        "    train_text.tolist(),\n",
        "    max_length = MAX_LENGHT,\n",
        "    pad_to_max_length=True,\n",
        "    truncation=True\n",
        ")\n",
        "# tokenize and encode sequences in the validation set\n",
        "tokens_val = tokenizer.batch_encode_plus(\n",
        "    val_text.tolist(),\n",
        "    max_length = MAX_LENGHT,\n",
        "    pad_to_max_length=True,\n",
        "    truncation=True\n",
        ")\n",
        "# tokenize and encode sequences in the test set\n",
        "tokens_test = tokenizer.batch_encode_plus(\n",
        "    test_text.tolist(),\n",
        "    max_length = MAX_LENGHT,\n",
        "    pad_to_max_length=True,\n",
        "    truncation=True\n",
        ")"
      ]
    },
    {
      "cell_type": "code",
      "execution_count": 18,
      "metadata": {
        "id": "jE9PI9_H0Moi"
      },
      "outputs": [],
      "source": [
        "# Convert lists to tensors\n",
        "train_seq = torch.tensor(tokens_train['input_ids'])\n",
        "train_mask = torch.tensor(tokens_train['attention_mask'])\n",
        "train_y = torch.tensor(train_labels.tolist())\n",
        "\n",
        "val_seq = torch.tensor(tokens_val['input_ids'])\n",
        "val_mask = torch.tensor(tokens_val['attention_mask'])\n",
        "val_y = torch.tensor(val_labels.tolist())\n",
        "\n",
        "test_seq = torch.tensor(tokens_test['input_ids'])\n",
        "test_mask = torch.tensor(tokens_test['attention_mask'])\n",
        "test_y = torch.tensor(test_labels.tolist())"
      ]
    },
    {
      "cell_type": "code",
      "execution_count": 19,
      "metadata": {
        "id": "Oft-16jR0M6h"
      },
      "outputs": [],
      "source": [
        "# Data Loader structure definition\n",
        "from torch.utils.data import TensorDataset, DataLoader, RandomSampler, SequentialSampler\n",
        "batch_size = 32                                               #define a batch size\n",
        "\n",
        "train_data = TensorDataset(train_seq, train_mask, train_y)    # wrap tensors\n",
        "train_sampler = RandomSampler(train_data)                     # sampler for sampling the data during training\n",
        "train_dataloader = DataLoader(train_data, sampler=train_sampler, batch_size=batch_size)\n",
        "                                                              # dataLoader for train set\n",
        "val_data = TensorDataset(val_seq, val_mask, val_y)            # wrap tensors\n",
        "val_sampler = SequentialSampler(val_data)                     # sampler for sampling the data during training\n",
        "val_dataloader = DataLoader(val_data, sampler = val_sampler, batch_size=batch_size)\n",
        "                                                              # dataLoader for validation set\n",
        "\n",
        "test_data = TensorDataset(test_seq, test_mask, test_y)            # wrap tensors\n",
        "test_sampler = SequentialSampler(test_data)                     # sampler for sampling the data during training\n",
        "test_dataloader = DataLoader(test_data, sampler = test_sampler, batch_size=batch_size)\n",
        "                                                              # dataLoader for validation set"
      ]
    },
    {
      "cell_type": "markdown",
      "metadata": {
        "id": "VkHiWeqop3Q_"
      },
      "source": [
        "### Freeze Layers"
      ]
    },
    {
      "cell_type": "code",
      "execution_count": 20,
      "metadata": {
        "id": "dH-wI1yhzQkD"
      },
      "outputs": [],
      "source": [
        "# Freezing the parameters and defining trainable BERT structure\n",
        "for param in bert.parameters():\n",
        "    param.requires_grad = False    # false here means gradient need not be computed"
      ]
    },
    {
      "cell_type": "markdown",
      "metadata": {
        "id": "XAJPyGH4zaRZ"
      },
      "source": [
        "### Define Model Architecture"
      ]
    },
    {
      "cell_type": "code",
      "execution_count": 21,
      "metadata": {
        "colab": {
          "base_uri": "https://localhost:8080/"
        },
        "id": "5oC6f5jD0vm0",
        "outputId": "e8e76f28-1a7f-4959-908f-0d627062290e"
      },
      "outputs": [
        {
          "name": "stderr",
          "output_type": "stream",
          "text": [
            "C:\\Users\\erikf\\AppData\\Local\\Packages\\PythonSoftwareFoundation.Python.3.10_qbz5n2kfra8p0\\LocalCache\\local-packages\\Python310\\site-packages\\transformers\\optimization.py:391: FutureWarning: This implementation of AdamW is deprecated and will be removed in a future version. Use the PyTorch implementation torch.optim.AdamW instead, or set `no_deprecation_warning=True` to disable this warning\n",
            "  warnings.warn(\n"
          ]
        }
      ],
      "source": [
        "class BERT_Arch(nn.Module):\n",
        "    def __init__(self, bert):  \n",
        "      super(BERT_Arch, self).__init__()\n",
        "      self.bert = bert   \n",
        "      self.dropout = nn.Dropout(0.1)            # dropout layer\n",
        "      self.relu =  nn.ReLU()                    # relu activation function\n",
        "      self.fc1 = nn.Linear(768,1024)             # dense layer 1\n",
        "      self.fc2 = nn.Linear(1024,16)               # dense layer 2 (Output layer)\n",
        "      self.softmax = nn.LogSoftmax(dim=1)       # softmax activation function\n",
        "    def forward(self, sent_id, mask):           # define the forward pass  \n",
        "      cls_hs = self.bert(sent_id, attention_mask=mask)['pooler_output']\n",
        "                                                # pass the inputs to the model\n",
        "      x = self.fc1(cls_hs)\n",
        "      x = self.relu(x)\n",
        "      x = self.dropout(x)\n",
        "      x = self.fc2(x)                           # output layer\n",
        "      x = self.softmax(x)                       # apply softmax activation\n",
        "      return x\n",
        "\n",
        "model = BERT_Arch(bert)\n",
        "# Defining the hyperparameters (optimizer, weights of the classes and the epochs)\n",
        "# Define the optimizer\n",
        "from transformers import AdamW\n",
        "optimizer = AdamW(model.parameters(),\n",
        "                  lr = 0.001)          # learning rate\n",
        "# Define the loss function\n",
        "cross_entropy  = nn.NLLLoss() \n",
        "# Number of training epochs\n",
        "epochs = 2"
      ]
    },
    {
      "cell_type": "markdown",
      "metadata": {
        "id": "LGFpP494zgLh"
      },
      "source": [
        "### Define Train & Evaluate Function"
      ]
    },
    {
      "cell_type": "code",
      "execution_count": 23,
      "metadata": {
        "id": "BEG81NvL1Rt9"
      },
      "outputs": [],
      "source": [
        "# Defining training and evaluation functions\n",
        "def train():  \n",
        "  model.train()\n",
        "  total_loss, total_accuracy = 0, 0\n",
        "  \n",
        "  for step,batch in enumerate(train_dataloader):                # iterate over batches\n",
        "    if step % 50 == 0 and not step == 0:                        # progress update after every 50 batches.\n",
        "      print('  Batch {:>5,}  of  {:>5,}.'.format(step, len(train_dataloader)))\n",
        "    batch = [r for r in batch]                                  # push the batch to gpu\n",
        "    sent_id, mask, labels = batch \n",
        "    model.zero_grad()                                           # clear previously calculated gradients\n",
        "    preds = model(sent_id, mask)                                # get model predictions for current batch\n",
        "    loss = cross_entropy(preds, labels)                         # compute loss between actual & predicted values\n",
        "    total_loss = total_loss + loss.item()                       # add on to the total loss\n",
        "    loss.backward()                                             # backward pass to calculate the gradients\n",
        "    torch.nn.utils.clip_grad_norm_(model.parameters(), 1.0)     # clip gradients to 1.0. It helps in preventing exploding gradient problem\n",
        "    optimizer.step()                                            # update parameters\n",
        "    preds=preds.detach().cpu().numpy()                          # model predictions are stored on GPU. So, push it to CPU\n",
        "\n",
        "  avg_loss = total_loss / len(train_dataloader)                 # compute training loss of the epoch  \n",
        "                                                                # reshape predictions in form of (# samples, # classes)\n",
        "  return avg_loss                                 # returns the loss and predictions\n",
        "\n",
        "def evaluate():  \n",
        "  print(\"\\nEvaluating...\")  \n",
        "  model.eval()                                    # Deactivate dropout layers\n",
        "  total_loss, total_accuracy = 0, 0  \n",
        "  for step,batch in enumerate(val_dataloader):    # Iterate over batches  \n",
        "    if step % 50 == 0 and not step == 0:          # Progress update every 50 batches.     \n",
        "                                                  # Calculate elapsed time in minutes.\n",
        "                                                  # Elapsed = format_time(time.time() - t0)\n",
        "      print('  Batch {:>5,}  of  {:>5,}.'.format(step, len(val_dataloader)))\n",
        "                                                  # Report progress\n",
        "    batch = [t for t in batch]                    # Push the batch to GPU\n",
        "    sent_id, mask, labels = batch\n",
        "    with torch.no_grad():                         # Deactivate autograd\n",
        "      preds = model(sent_id, mask)                # Model predictions\n",
        "      loss = cross_entropy(preds,labels)          # Compute the validation loss between actual and predicted values\n",
        "      total_loss = total_loss + loss.item()\n",
        "      preds = preds.detach().cpu().numpy()\n",
        "  avg_loss = total_loss / len(val_dataloader)         # compute the validation loss of the epoch\n",
        "  return avg_loss"
      ]
    },
    {
      "cell_type": "markdown",
      "metadata": {
        "id": "IARpecoUzloO"
      },
      "source": [
        "### Model training"
      ]
    },
    {
      "cell_type": "code",
      "execution_count": 27,
      "metadata": {
        "colab": {
          "base_uri": "https://localhost:8080/"
        },
        "id": "uSN0ZPiW1d-e",
        "outputId": "4c31cf16-aa32-4ffd-8922-f467da79f914"
      },
      "outputs": [
        {
          "name": "stdout",
          "output_type": "stream",
          "text": [
            "\n",
            " Epoch 1 / 2\n",
            "  Batch    50  of  9,250.\n",
            "  Batch   100  of  9,250.\n",
            "  Batch   150  of  9,250.\n",
            "  Batch   200  of  9,250.\n",
            "  Batch   250  of  9,250.\n",
            "  Batch   300  of  9,250.\n",
            "  Batch   350  of  9,250.\n",
            "  Batch   400  of  9,250.\n",
            "  Batch   450  of  9,250.\n",
            "  Batch   500  of  9,250.\n",
            "  Batch   550  of  9,250.\n",
            "  Batch   600  of  9,250.\n",
            "  Batch   650  of  9,250.\n",
            "  Batch   700  of  9,250.\n",
            "  Batch   750  of  9,250.\n",
            "  Batch   800  of  9,250.\n",
            "  Batch   850  of  9,250.\n",
            "  Batch   900  of  9,250.\n",
            "  Batch   950  of  9,250.\n",
            "  Batch 1,000  of  9,250.\n",
            "  Batch 1,050  of  9,250.\n",
            "  Batch 1,100  of  9,250.\n",
            "  Batch 1,150  of  9,250.\n",
            "  Batch 1,200  of  9,250.\n",
            "  Batch 1,250  of  9,250.\n",
            "  Batch 1,300  of  9,250.\n",
            "  Batch 1,350  of  9,250.\n",
            "  Batch 1,400  of  9,250.\n",
            "  Batch 1,450  of  9,250.\n",
            "  Batch 1,500  of  9,250.\n",
            "  Batch 1,550  of  9,250.\n",
            "  Batch 1,600  of  9,250.\n",
            "  Batch 1,650  of  9,250.\n",
            "  Batch 1,700  of  9,250.\n",
            "  Batch 1,750  of  9,250.\n",
            "  Batch 1,800  of  9,250.\n",
            "  Batch 1,850  of  9,250.\n",
            "  Batch 1,900  of  9,250.\n",
            "  Batch 1,950  of  9,250.\n",
            "  Batch 2,000  of  9,250.\n",
            "  Batch 2,050  of  9,250.\n",
            "  Batch 2,100  of  9,250.\n",
            "  Batch 2,150  of  9,250.\n",
            "  Batch 2,200  of  9,250.\n",
            "  Batch 2,250  of  9,250.\n",
            "  Batch 2,300  of  9,250.\n",
            "  Batch 2,350  of  9,250.\n",
            "  Batch 2,400  of  9,250.\n",
            "  Batch 2,450  of  9,250.\n",
            "  Batch 2,500  of  9,250.\n",
            "  Batch 2,550  of  9,250.\n",
            "  Batch 2,600  of  9,250.\n",
            "  Batch 2,650  of  9,250.\n",
            "  Batch 2,700  of  9,250.\n",
            "  Batch 2,750  of  9,250.\n",
            "  Batch 2,800  of  9,250.\n",
            "  Batch 2,850  of  9,250.\n",
            "  Batch 2,900  of  9,250.\n",
            "  Batch 2,950  of  9,250.\n",
            "  Batch 3,000  of  9,250.\n",
            "  Batch 3,050  of  9,250.\n",
            "  Batch 3,100  of  9,250.\n",
            "  Batch 3,150  of  9,250.\n",
            "  Batch 3,200  of  9,250.\n",
            "  Batch 3,250  of  9,250.\n",
            "  Batch 3,300  of  9,250.\n",
            "  Batch 3,350  of  9,250.\n",
            "  Batch 3,400  of  9,250.\n",
            "  Batch 3,450  of  9,250.\n",
            "  Batch 3,500  of  9,250.\n",
            "  Batch 3,550  of  9,250.\n",
            "  Batch 3,600  of  9,250.\n",
            "  Batch 3,650  of  9,250.\n",
            "  Batch 3,700  of  9,250.\n",
            "  Batch 3,750  of  9,250.\n",
            "  Batch 3,800  of  9,250.\n",
            "  Batch 3,850  of  9,250.\n",
            "  Batch 3,900  of  9,250.\n",
            "  Batch 3,950  of  9,250.\n",
            "  Batch 4,000  of  9,250.\n",
            "  Batch 4,050  of  9,250.\n",
            "  Batch 4,100  of  9,250.\n",
            "  Batch 4,150  of  9,250.\n",
            "  Batch 4,200  of  9,250.\n",
            "  Batch 4,250  of  9,250.\n",
            "  Batch 4,300  of  9,250.\n",
            "  Batch 4,350  of  9,250.\n",
            "  Batch 4,400  of  9,250.\n",
            "  Batch 4,450  of  9,250.\n",
            "  Batch 4,500  of  9,250.\n",
            "  Batch 4,550  of  9,250.\n",
            "  Batch 4,600  of  9,250.\n",
            "  Batch 4,650  of  9,250.\n",
            "  Batch 4,700  of  9,250.\n",
            "  Batch 4,750  of  9,250.\n",
            "  Batch 4,800  of  9,250.\n",
            "  Batch 4,850  of  9,250.\n",
            "  Batch 4,900  of  9,250.\n",
            "  Batch 4,950  of  9,250.\n",
            "  Batch 5,000  of  9,250.\n",
            "  Batch 5,050  of  9,250.\n",
            "  Batch 5,100  of  9,250.\n",
            "  Batch 5,150  of  9,250.\n",
            "  Batch 5,200  of  9,250.\n",
            "  Batch 5,250  of  9,250.\n",
            "  Batch 5,300  of  9,250.\n",
            "  Batch 5,350  of  9,250.\n",
            "  Batch 5,400  of  9,250.\n",
            "  Batch 5,450  of  9,250.\n",
            "  Batch 5,500  of  9,250.\n",
            "  Batch 5,550  of  9,250.\n",
            "  Batch 5,600  of  9,250.\n",
            "  Batch 5,650  of  9,250.\n",
            "  Batch 5,700  of  9,250.\n",
            "  Batch 5,750  of  9,250.\n",
            "  Batch 5,800  of  9,250.\n",
            "  Batch 5,850  of  9,250.\n",
            "  Batch 5,900  of  9,250.\n",
            "  Batch 5,950  of  9,250.\n",
            "  Batch 6,000  of  9,250.\n",
            "  Batch 6,050  of  9,250.\n",
            "  Batch 6,100  of  9,250.\n",
            "  Batch 6,150  of  9,250.\n",
            "  Batch 6,200  of  9,250.\n",
            "  Batch 6,250  of  9,250.\n",
            "  Batch 6,300  of  9,250.\n",
            "  Batch 6,350  of  9,250.\n",
            "  Batch 6,400  of  9,250.\n",
            "  Batch 6,450  of  9,250.\n",
            "  Batch 6,500  of  9,250.\n",
            "  Batch 6,550  of  9,250.\n",
            "  Batch 6,600  of  9,250.\n",
            "  Batch 6,650  of  9,250.\n",
            "  Batch 6,700  of  9,250.\n",
            "  Batch 6,750  of  9,250.\n",
            "  Batch 6,800  of  9,250.\n",
            "  Batch 6,850  of  9,250.\n",
            "  Batch 6,900  of  9,250.\n",
            "  Batch 6,950  of  9,250.\n",
            "  Batch 7,000  of  9,250.\n",
            "  Batch 7,050  of  9,250.\n",
            "  Batch 7,100  of  9,250.\n",
            "  Batch 7,150  of  9,250.\n",
            "  Batch 7,200  of  9,250.\n",
            "  Batch 7,250  of  9,250.\n",
            "  Batch 7,300  of  9,250.\n",
            "  Batch 7,350  of  9,250.\n",
            "  Batch 7,400  of  9,250.\n",
            "  Batch 7,450  of  9,250.\n",
            "  Batch 7,500  of  9,250.\n",
            "  Batch 7,550  of  9,250.\n",
            "  Batch 7,600  of  9,250.\n",
            "  Batch 7,650  of  9,250.\n",
            "  Batch 7,700  of  9,250.\n",
            "  Batch 7,750  of  9,250.\n",
            "  Batch 7,800  of  9,250.\n",
            "  Batch 7,850  of  9,250.\n",
            "  Batch 7,900  of  9,250.\n",
            "  Batch 7,950  of  9,250.\n",
            "  Batch 8,000  of  9,250.\n",
            "  Batch 8,050  of  9,250.\n",
            "  Batch 8,100  of  9,250.\n",
            "  Batch 8,150  of  9,250.\n",
            "  Batch 8,200  of  9,250.\n",
            "  Batch 8,250  of  9,250.\n",
            "  Batch 8,300  of  9,250.\n",
            "  Batch 8,350  of  9,250.\n",
            "  Batch 8,400  of  9,250.\n",
            "  Batch 8,450  of  9,250.\n",
            "  Batch 8,500  of  9,250.\n",
            "  Batch 8,550  of  9,250.\n",
            "  Batch 8,600  of  9,250.\n",
            "  Batch 8,650  of  9,250.\n",
            "  Batch 8,700  of  9,250.\n",
            "  Batch 8,750  of  9,250.\n",
            "  Batch 8,800  of  9,250.\n",
            "  Batch 8,850  of  9,250.\n",
            "  Batch 8,900  of  9,250.\n",
            "  Batch 8,950  of  9,250.\n",
            "  Batch 9,000  of  9,250.\n",
            "  Batch 9,050  of  9,250.\n",
            "  Batch 9,100  of  9,250.\n",
            "  Batch 9,150  of  9,250.\n",
            "  Batch 9,200  of  9,250.\n",
            "\n",
            "Evaluating...\n",
            "  Batch    50  of  1,983.\n",
            "  Batch   100  of  1,983.\n",
            "  Batch   150  of  1,983.\n",
            "  Batch   200  of  1,983.\n",
            "  Batch   250  of  1,983.\n",
            "  Batch   300  of  1,983.\n",
            "  Batch   350  of  1,983.\n",
            "  Batch   400  of  1,983.\n",
            "  Batch   450  of  1,983.\n",
            "  Batch   500  of  1,983.\n",
            "  Batch   550  of  1,983.\n",
            "  Batch   600  of  1,983.\n",
            "  Batch   650  of  1,983.\n",
            "  Batch   700  of  1,983.\n",
            "  Batch   750  of  1,983.\n",
            "  Batch   800  of  1,983.\n",
            "  Batch   850  of  1,983.\n",
            "  Batch   900  of  1,983.\n",
            "  Batch   950  of  1,983.\n",
            "  Batch 1,000  of  1,983.\n",
            "  Batch 1,050  of  1,983.\n",
            "  Batch 1,100  of  1,983.\n",
            "  Batch 1,150  of  1,983.\n",
            "  Batch 1,200  of  1,983.\n",
            "  Batch 1,250  of  1,983.\n",
            "  Batch 1,300  of  1,983.\n",
            "  Batch 1,350  of  1,983.\n",
            "  Batch 1,400  of  1,983.\n",
            "  Batch 1,450  of  1,983.\n",
            "  Batch 1,500  of  1,983.\n",
            "  Batch 1,550  of  1,983.\n",
            "  Batch 1,600  of  1,983.\n",
            "  Batch 1,650  of  1,983.\n",
            "  Batch 1,700  of  1,983.\n",
            "  Batch 1,750  of  1,983.\n",
            "  Batch 1,800  of  1,983.\n",
            "  Batch 1,850  of  1,983.\n",
            "  Batch 1,900  of  1,983.\n",
            "  Batch 1,950  of  1,983.\n",
            "\n",
            "Training Loss: 2.276\n",
            "Validation Loss: 2.254\n",
            "\n",
            " Epoch 2 / 2\n",
            "  Batch    50  of  9,250.\n",
            "  Batch   100  of  9,250.\n",
            "  Batch   150  of  9,250.\n",
            "  Batch   200  of  9,250.\n",
            "  Batch   250  of  9,250.\n",
            "  Batch   300  of  9,250.\n",
            "  Batch   350  of  9,250.\n",
            "  Batch   400  of  9,250.\n",
            "  Batch   450  of  9,250.\n",
            "  Batch   500  of  9,250.\n",
            "  Batch   550  of  9,250.\n",
            "  Batch   600  of  9,250.\n",
            "  Batch   650  of  9,250.\n",
            "  Batch   700  of  9,250.\n",
            "  Batch   750  of  9,250.\n",
            "  Batch   800  of  9,250.\n",
            "  Batch   850  of  9,250.\n",
            "  Batch   900  of  9,250.\n",
            "  Batch   950  of  9,250.\n",
            "  Batch 1,000  of  9,250.\n",
            "  Batch 1,050  of  9,250.\n",
            "  Batch 1,100  of  9,250.\n",
            "  Batch 1,150  of  9,250.\n",
            "  Batch 1,200  of  9,250.\n",
            "  Batch 1,250  of  9,250.\n",
            "  Batch 1,300  of  9,250.\n",
            "  Batch 1,350  of  9,250.\n",
            "  Batch 1,400  of  9,250.\n",
            "  Batch 1,450  of  9,250.\n",
            "  Batch 1,500  of  9,250.\n",
            "  Batch 1,550  of  9,250.\n",
            "  Batch 1,600  of  9,250.\n",
            "  Batch 1,650  of  9,250.\n",
            "  Batch 1,700  of  9,250.\n",
            "  Batch 1,750  of  9,250.\n",
            "  Batch 1,800  of  9,250.\n",
            "  Batch 1,850  of  9,250.\n",
            "  Batch 1,900  of  9,250.\n",
            "  Batch 1,950  of  9,250.\n",
            "  Batch 2,000  of  9,250.\n",
            "  Batch 2,050  of  9,250.\n",
            "  Batch 2,100  of  9,250.\n",
            "  Batch 2,150  of  9,250.\n",
            "  Batch 2,200  of  9,250.\n",
            "  Batch 2,250  of  9,250.\n",
            "  Batch 2,300  of  9,250.\n",
            "  Batch 2,350  of  9,250.\n",
            "  Batch 2,400  of  9,250.\n",
            "  Batch 2,450  of  9,250.\n",
            "  Batch 2,500  of  9,250.\n",
            "  Batch 2,550  of  9,250.\n",
            "  Batch 2,600  of  9,250.\n",
            "  Batch 2,650  of  9,250.\n",
            "  Batch 2,700  of  9,250.\n",
            "  Batch 2,750  of  9,250.\n",
            "  Batch 2,800  of  9,250.\n",
            "  Batch 2,850  of  9,250.\n",
            "  Batch 2,900  of  9,250.\n",
            "  Batch 2,950  of  9,250.\n",
            "  Batch 3,000  of  9,250.\n",
            "  Batch 3,050  of  9,250.\n",
            "  Batch 3,100  of  9,250.\n",
            "  Batch 3,150  of  9,250.\n",
            "  Batch 3,200  of  9,250.\n",
            "  Batch 3,250  of  9,250.\n",
            "  Batch 3,300  of  9,250.\n",
            "  Batch 3,350  of  9,250.\n",
            "  Batch 3,400  of  9,250.\n",
            "  Batch 3,450  of  9,250.\n",
            "  Batch 3,500  of  9,250.\n",
            "  Batch 3,550  of  9,250.\n",
            "  Batch 3,600  of  9,250.\n",
            "  Batch 3,650  of  9,250.\n",
            "  Batch 3,700  of  9,250.\n",
            "  Batch 3,750  of  9,250.\n",
            "  Batch 3,800  of  9,250.\n",
            "  Batch 3,850  of  9,250.\n",
            "  Batch 3,900  of  9,250.\n",
            "  Batch 3,950  of  9,250.\n",
            "  Batch 4,000  of  9,250.\n",
            "  Batch 4,050  of  9,250.\n",
            "  Batch 4,100  of  9,250.\n",
            "  Batch 4,150  of  9,250.\n",
            "  Batch 4,200  of  9,250.\n",
            "  Batch 4,250  of  9,250.\n",
            "  Batch 4,300  of  9,250.\n",
            "  Batch 4,350  of  9,250.\n",
            "  Batch 4,400  of  9,250.\n",
            "  Batch 4,450  of  9,250.\n",
            "  Batch 4,500  of  9,250.\n",
            "  Batch 4,550  of  9,250.\n",
            "  Batch 4,600  of  9,250.\n",
            "  Batch 4,650  of  9,250.\n",
            "  Batch 4,700  of  9,250.\n",
            "  Batch 4,750  of  9,250.\n",
            "  Batch 4,800  of  9,250.\n",
            "  Batch 4,850  of  9,250.\n",
            "  Batch 4,900  of  9,250.\n",
            "  Batch 4,950  of  9,250.\n",
            "  Batch 5,000  of  9,250.\n",
            "  Batch 5,050  of  9,250.\n",
            "  Batch 5,100  of  9,250.\n",
            "  Batch 5,150  of  9,250.\n",
            "  Batch 5,200  of  9,250.\n",
            "  Batch 5,250  of  9,250.\n",
            "  Batch 5,300  of  9,250.\n",
            "  Batch 5,350  of  9,250.\n",
            "  Batch 5,400  of  9,250.\n",
            "  Batch 5,450  of  9,250.\n",
            "  Batch 5,500  of  9,250.\n",
            "  Batch 5,550  of  9,250.\n",
            "  Batch 5,600  of  9,250.\n",
            "  Batch 5,650  of  9,250.\n",
            "  Batch 5,700  of  9,250.\n",
            "  Batch 5,750  of  9,250.\n",
            "  Batch 5,800  of  9,250.\n",
            "  Batch 5,850  of  9,250.\n",
            "  Batch 5,900  of  9,250.\n",
            "  Batch 5,950  of  9,250.\n",
            "  Batch 6,000  of  9,250.\n",
            "  Batch 6,050  of  9,250.\n",
            "  Batch 6,100  of  9,250.\n",
            "  Batch 6,150  of  9,250.\n",
            "  Batch 6,200  of  9,250.\n",
            "  Batch 6,250  of  9,250.\n",
            "  Batch 6,300  of  9,250.\n",
            "  Batch 6,350  of  9,250.\n",
            "  Batch 6,400  of  9,250.\n",
            "  Batch 6,450  of  9,250.\n",
            "  Batch 6,500  of  9,250.\n",
            "  Batch 6,550  of  9,250.\n",
            "  Batch 6,600  of  9,250.\n",
            "  Batch 6,650  of  9,250.\n",
            "  Batch 6,700  of  9,250.\n",
            "  Batch 6,750  of  9,250.\n",
            "  Batch 6,800  of  9,250.\n",
            "  Batch 6,850  of  9,250.\n",
            "  Batch 6,900  of  9,250.\n",
            "  Batch 6,950  of  9,250.\n",
            "  Batch 7,000  of  9,250.\n",
            "  Batch 7,050  of  9,250.\n",
            "  Batch 7,100  of  9,250.\n",
            "  Batch 7,150  of  9,250.\n",
            "  Batch 7,200  of  9,250.\n",
            "  Batch 7,250  of  9,250.\n",
            "  Batch 7,300  of  9,250.\n",
            "  Batch 7,350  of  9,250.\n",
            "  Batch 7,400  of  9,250.\n",
            "  Batch 7,450  of  9,250.\n",
            "  Batch 7,500  of  9,250.\n",
            "  Batch 7,550  of  9,250.\n",
            "  Batch 7,600  of  9,250.\n",
            "  Batch 7,650  of  9,250.\n",
            "  Batch 7,700  of  9,250.\n",
            "  Batch 7,750  of  9,250.\n",
            "  Batch 7,800  of  9,250.\n",
            "  Batch 7,850  of  9,250.\n",
            "  Batch 7,900  of  9,250.\n",
            "  Batch 7,950  of  9,250.\n",
            "  Batch 8,000  of  9,250.\n",
            "  Batch 8,050  of  9,250.\n",
            "  Batch 8,100  of  9,250.\n",
            "  Batch 8,150  of  9,250.\n",
            "  Batch 8,200  of  9,250.\n",
            "  Batch 8,250  of  9,250.\n",
            "  Batch 8,300  of  9,250.\n",
            "  Batch 8,350  of  9,250.\n",
            "  Batch 8,400  of  9,250.\n",
            "  Batch 8,450  of  9,250.\n",
            "  Batch 8,500  of  9,250.\n",
            "  Batch 8,550  of  9,250.\n",
            "  Batch 8,600  of  9,250.\n",
            "  Batch 8,650  of  9,250.\n",
            "  Batch 8,700  of  9,250.\n",
            "  Batch 8,750  of  9,250.\n",
            "  Batch 8,800  of  9,250.\n",
            "  Batch 8,850  of  9,250.\n",
            "  Batch 8,900  of  9,250.\n",
            "  Batch 8,950  of  9,250.\n",
            "  Batch 9,000  of  9,250.\n",
            "  Batch 9,050  of  9,250.\n",
            "  Batch 9,100  of  9,250.\n",
            "  Batch 9,150  of  9,250.\n",
            "  Batch 9,200  of  9,250.\n",
            "\n",
            "Evaluating...\n",
            "  Batch    50  of  1,983.\n",
            "  Batch   100  of  1,983.\n",
            "  Batch   150  of  1,983.\n",
            "  Batch   200  of  1,983.\n",
            "  Batch   250  of  1,983.\n",
            "  Batch   300  of  1,983.\n",
            "  Batch   350  of  1,983.\n",
            "  Batch   400  of  1,983.\n",
            "  Batch   450  of  1,983.\n",
            "  Batch   500  of  1,983.\n",
            "  Batch   550  of  1,983.\n",
            "  Batch   600  of  1,983.\n",
            "  Batch   650  of  1,983.\n",
            "  Batch   700  of  1,983.\n",
            "  Batch   750  of  1,983.\n",
            "  Batch   800  of  1,983.\n",
            "  Batch   850  of  1,983.\n",
            "  Batch   900  of  1,983.\n",
            "  Batch   950  of  1,983.\n",
            "  Batch 1,000  of  1,983.\n",
            "  Batch 1,050  of  1,983.\n",
            "  Batch 1,100  of  1,983.\n",
            "  Batch 1,150  of  1,983.\n",
            "  Batch 1,200  of  1,983.\n",
            "  Batch 1,250  of  1,983.\n",
            "  Batch 1,300  of  1,983.\n",
            "  Batch 1,350  of  1,983.\n",
            "  Batch 1,400  of  1,983.\n",
            "  Batch 1,450  of  1,983.\n",
            "  Batch 1,500  of  1,983.\n",
            "  Batch 1,550  of  1,983.\n",
            "  Batch 1,600  of  1,983.\n",
            "  Batch 1,650  of  1,983.\n",
            "  Batch 1,700  of  1,983.\n",
            "  Batch 1,750  of  1,983.\n",
            "  Batch 1,800  of  1,983.\n",
            "  Batch 1,850  of  1,983.\n",
            "  Batch 1,900  of  1,983.\n",
            "  Batch 1,950  of  1,983.\n",
            "\n",
            "Training Loss: 2.262\n",
            "Validation Loss: 2.248\n"
          ]
        }
      ],
      "source": [
        "# Train and predict\n",
        "best_valid_loss = float('inf')\n",
        "train_losses=[]                   # empty lists to store training and validation loss of each epoch\n",
        "valid_losses=[]\n",
        "\n",
        "for epoch in range(epochs):     \n",
        "    print('\\n Epoch {:} / {:}'.format(epoch + 1, epochs))     \n",
        "    train_loss = train()                       # train model\n",
        "    valid_loss = evaluate()                    # evaluate model\n",
        "    if valid_loss < best_valid_loss:              # save the best model\n",
        "        best_valid_loss = valid_loss\n",
        "        torch.save(model.state_dict(), 'c2_new_model_weights.pt')\n",
        "    train_losses.append(train_loss)               # append training and validation loss\n",
        "    valid_losses.append(valid_loss)\n",
        "    \n",
        "    print(f'\\nTraining Loss: {train_loss:.3f}')\n",
        "    print(f'Validation Loss: {valid_loss:.3f}')"
      ]
    },
    {
      "cell_type": "markdown",
      "metadata": {
        "id": "Qp7jw9a6qiPt"
      },
      "source": [
        "### Model performance"
      ]
    },
    {
      "cell_type": "code",
      "execution_count": 25,
      "metadata": {},
      "outputs": [
        {
          "data": {
            "text/plain": [
              "<All keys matched successfully>"
            ]
          },
          "execution_count": 25,
          "metadata": {},
          "output_type": "execute_result"
        }
      ],
      "source": [
        "#pull model after saving\n",
        "path = 'c2_new_model_weights.pt'\n",
        "model.load_state_dict(torch.load(path))"
      ]
    },
    {
      "cell_type": "code",
      "execution_count": 27,
      "metadata": {},
      "outputs": [
        {
          "name": "stdout",
          "output_type": "stream",
          "text": [
            "\n",
            "Evaluating...\n",
            "  Batch    50  of  1,983.\n",
            "  Batch   100  of  1,983.\n",
            "  Batch   150  of  1,983.\n",
            "  Batch   200  of  1,983.\n",
            "  Batch   250  of  1,983.\n",
            "  Batch   300  of  1,983.\n",
            "  Batch   350  of  1,983.\n",
            "  Batch   400  of  1,983.\n",
            "  Batch   450  of  1,983.\n",
            "  Batch   500  of  1,983.\n",
            "  Batch   550  of  1,983.\n",
            "  Batch   600  of  1,983.\n",
            "  Batch   650  of  1,983.\n",
            "  Batch   700  of  1,983.\n",
            "  Batch   750  of  1,983.\n",
            "  Batch   800  of  1,983.\n",
            "  Batch   850  of  1,983.\n",
            "  Batch   900  of  1,983.\n",
            "  Batch   950  of  1,983.\n",
            "  Batch 1,000  of  1,983.\n",
            "  Batch 1,050  of  1,983.\n",
            "  Batch 1,100  of  1,983.\n",
            "  Batch 1,150  of  1,983.\n",
            "  Batch 1,200  of  1,983.\n",
            "  Batch 1,250  of  1,983.\n",
            "  Batch 1,300  of  1,983.\n",
            "  Batch 1,350  of  1,983.\n",
            "  Batch 1,400  of  1,983.\n",
            "  Batch 1,450  of  1,983.\n",
            "  Batch 1,500  of  1,983.\n",
            "  Batch 1,550  of  1,983.\n",
            "  Batch 1,600  of  1,983.\n",
            "  Batch 1,650  of  1,983.\n",
            "  Batch 1,700  of  1,983.\n",
            "  Batch 1,750  of  1,983.\n",
            "  Batch 1,800  of  1,983.\n",
            "  Batch 1,850  of  1,983.\n",
            "  Batch 1,900  of  1,983.\n",
            "  Batch 1,950  of  1,983.\n"
          ]
        }
      ],
      "source": [
        "def evaluate_test():  \n",
        "  print(\"\\nEvaluating...\")  \n",
        "  model.eval()                                    # Deactivate dropout layers\n",
        "  total_loss, total_accuracy = 0, 0  \n",
        "  for step,batch in enumerate(test_dataloader):    # Iterate over batches  \n",
        "    if step % 50 == 0 and not step == 0:          # Progress update every 50 batches.     \n",
        "                                                  # Calculate elapsed time in minutes.\n",
        "                                                  # Elapsed = format_time(time.time() - t0)\n",
        "      print('  Batch {:>5,}  of  {:>5,}.'.format(step, len(test_dataloader)))\n",
        "                                                  # Report progress\n",
        "    batch = [t for t in batch]                    # Push the batch to GPU\n",
        "    sent_id, mask, labels = batch\n",
        "    with torch.no_grad():                         # Deactivate autograd\n",
        "      preds = model(sent_id, mask)                # Model predictions\n",
        "      loss = cross_entropy(preds,labels)          # Compute the validation loss between actual and predicted values\n",
        "      total_loss = total_loss + loss.item()\n",
        "      preds = preds.detach().cpu().numpy()\n",
        "  avg_loss = total_loss / len(test_dataloader)         # compute the validation loss of the epoch\n",
        "  return avg_loss\n",
        "\n",
        "test_loss = evaluate_test()"
      ]
    },
    {
      "cell_type": "code",
      "execution_count": 33,
      "metadata": {},
      "outputs": [
        {
          "name": "stdout",
          "output_type": "stream",
          "text": [
            "0.07025230303406715\n",
            "None\n"
          ]
        }
      ],
      "source": [
        "error = print(test_loss/batch_size)\n",
        "print(error)"
      ]
    },
    {
      "cell_type": "code",
      "execution_count": null,
      "metadata": {},
      "outputs": [],
      "source": []
    }
  ],
  "metadata": {
    "colab": {
      "provenance": []
    },
    "gpuClass": "standard",
    "kernelspec": {
      "display_name": "Python 3",
      "name": "python3"
    },
    "language_info": {
      "codemirror_mode": {
        "name": "ipython",
        "version": 3
      },
      "file_extension": ".py",
      "mimetype": "text/x-python",
      "name": "python",
      "nbconvert_exporter": "python",
      "pygments_lexer": "ipython3",
      "version": "3.10.11"
    }
  },
  "nbformat": 4,
  "nbformat_minor": 0
}
